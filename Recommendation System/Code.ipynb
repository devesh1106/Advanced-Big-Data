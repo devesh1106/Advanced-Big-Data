{
  "nbformat": 4,
  "nbformat_minor": 0,
  "metadata": {
    "colab": {
      "name": "IDS 561_HW5_Devesh Sharma.ipynb",
      "version": "0.3.2",
      "provenance": [],
      "collapsed_sections": []
    },
    "kernelspec": {
      "name": "python3",
      "display_name": "Python 3"
    }
  },
  "cells": [
    {
      "cell_type": "code",
      "metadata": {
        "id": "BS0kA8lf6fmQ",
        "colab_type": "code",
        "colab": {}
      },
      "source": [
        "!apt-get install openjdk-8-jdk-headless -qq > /dev/null\n",
        "!wget -q http://www-eu.apache.org/dist/spark/spark-2.3.3/spark-2.3.3-bin-hadoop2.7.tgz\n",
        "!tar xf spark-2.3.3-bin-hadoop2.7.tgz\n",
        "!pip install -q findspark"
      ],
      "execution_count": 0,
      "outputs": []
    },
    {
      "cell_type": "code",
      "metadata": {
        "id": "8lv7AOjF6u0c",
        "colab_type": "code",
        "colab": {}
      },
      "source": [
        "import os\n",
        "os.environ[\"JAVA_HOME\"] = \"/usr/lib/jvm/java-8-openjdk-amd64\"\n",
        "os.environ[\"SPARK_HOME\"] = \"/content/spark-2.3.3-bin-hadoop2.7\""
      ],
      "execution_count": 0,
      "outputs": []
    },
    {
      "cell_type": "code",
      "metadata": {
        "id": "fxLZwK3r6xI-",
        "colab_type": "code",
        "colab": {}
      },
      "source": [
        "import findspark\n",
        "findspark.init()\n",
        "from pyspark.sql import SparkSession\n",
        "\n",
        "spark = SparkSession.builder.master(\"local[*]\").getOrCreate()"
      ],
      "execution_count": 0,
      "outputs": []
    },
    {
      "cell_type": "code",
      "metadata": {
        "id": "8GIiD-TP8k1i",
        "colab_type": "code",
        "colab": {}
      },
      "source": [
        "import re;\n",
        "from pyspark import SparkConf, SparkContext, HiveContext;\n",
        "from pyspark.mllib.recommendation import ALS, MatrixFactorizationModel, Rating\n",
        "from heapq import nlargest;"
      ],
      "execution_count": 0,
      "outputs": []
    },
    {
      "cell_type": "code",
      "metadata": {
        "id": "mkwQNvIE64AO",
        "colab_type": "code",
        "colab": {}
      },
      "source": [
        "from pyspark import SparkConf\n",
        "from pyspark import SparkContext\n",
        "from pyspark import HiveContext\n",
        "sc = SparkContext.getOrCreate(SparkConf().setMaster(\"local[*]\"))"
      ],
      "execution_count": 0,
      "outputs": []
    },
    {
      "cell_type": "code",
      "metadata": {
        "id": "NBhPhOS_65_k",
        "colab_type": "code",
        "colab": {}
      },
      "source": [
        "sqlContext = HiveContext(sc);"
      ],
      "execution_count": 0,
      "outputs": []
    },
    {
      "cell_type": "code",
      "metadata": {
        "id": "vOcu8M926-it",
        "colab_type": "code",
        "colab": {}
      },
      "source": [
        "movie = sc.textFile(\"C:/Personal/Spring 2019/Analytics for Big Data/ABD_Assignments/ABD_Assignment 5/ml-100k/u.data\");\n",
        "movie1 = movie.map(lambda l: l.split('\\t'));\n",
        "movie_data = movie1.map(lambda a:(a[0],a[1],a[2]));"
      ],
      "execution_count": 0,
      "outputs": []
    },
    {
      "cell_type": "code",
      "metadata": {
        "id": "fMFSp1_C8dCU",
        "colab_type": "code",
        "colab": {}
      },
      "source": [
        "rank = 11;\n",
        "numIterations = 10;\n",
        "reg_factor = 0.05\n",
        "\n",
        "model = ALS.train(movie_data, rank, seed=555, numIterations, reg_factor);\n",
        "movie_test = movie_data.map(lambda p: (p[0], p[1]));\n",
        "movie_pred = model.predictAll(movie_test).map(lambda r: (r[0], r[1], r[2]));\n",
        "movie_prediction = model_pred.sortBy(lambda a:(a[0],a[2]),ascending=False);"
      ],
      "execution_count": 0,
      "outputs": []
    },
    {
      "cell_type": "code",
      "metadata": {
        "id": "ovg-KNrD_hwM",
        "colab_type": "code",
        "colab": {}
      },
      "source": [
        "movie_pred_a = model_prediction.groupBy(lambda x: x[0]).flatMap(lambda g: nlargest(10, g[1], key=lambda x: x[2]));\n",
        "movie_pred_b = movie_pred_a.map(lambda a:(a[0],a[1]));\n",
        "movie_pred_c = movie_pred_b.groupByKey().mapValues(list);"
      ],
      "execution_count": 0,
      "outputs": []
    },
    {
      "cell_type": "code",
      "metadata": {
        "id": "8CC08pQ8AESg",
        "colab_type": "code",
        "colab": {}
      },
      "source": [
        "def csv(data):\n",
        "return '\\t'.join(str(d) for d in data);"
      ],
      "execution_count": 0,
      "outputs": []
    },
    {
      "cell_type": "code",
      "metadata": {
        "id": "ltPJ7nBHALYV",
        "colab_type": "code",
        "colab": {}
      },
      "source": [
        "movie_output = movie_pred_c.map(csv);"
      ],
      "execution_count": 0,
      "outputs": []
    },
    {
      "cell_type": "code",
      "metadata": {
        "id": "XU4pG6tQAYVQ",
        "colab_type": "code",
        "colab": {}
      },
      "source": [
        "rating_output = movie_output.map(lambda a:re.sub('\\[','',a));\n",
        "rating_output_final = rating_output.map(lambda a:re.sub(']','',a));"
      ],
      "execution_count": 0,
      "outputs": []
    },
    {
      "cell_type": "code",
      "metadata": {
        "id": "b0z8VMbPAvw2",
        "colab_type": "code",
        "colab": {}
      },
      "source": [
        "rating_output_final.saveAsTextFile(\"hw5_final_output\");"
      ],
      "execution_count": 0,
      "outputs": []
    }
  ]
}