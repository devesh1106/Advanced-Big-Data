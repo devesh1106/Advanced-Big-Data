{
  "nbformat": 4,
  "nbformat_minor": 0,
  "metadata": {
    "colab": {
      "name": "IDS_561_Assignment_3_Devesh_Sharma.ipynb",
      "version": "0.3.2",
      "provenance": [],
      "collapsed_sections": []
    },
    "kernelspec": {
      "name": "python3",
      "display_name": "Python 3"
    }
  },
  "cells": [
    {
      "metadata": {
        "id": "cIMqtREktpx5",
        "colab_type": "text"
      },
      "cell_type": "markdown",
      "source": [
        "**Installing Java, Spark and FindSpark**"
      ]
    },
    {
      "metadata": {
        "id": "40M9WD9Pt-qb",
        "colab_type": "code",
        "colab": {}
      },
      "cell_type": "code",
      "source": [
        "!apt-get install openjdk-8-jdk-headless -qq > /dev/null\n",
        "!wget -q http://apache.osuosl.org/spark/spark-2.2.3/spark-2.2.3-bin-hadoop2.7.tgz\n",
        "!tar xf spark-2.2.3-bin-hadoop2.7.tgz\n",
        "!pip install -q findspark"
      ],
      "execution_count": 0,
      "outputs": []
    },
    {
      "metadata": {
        "id": "oxV7McLCuZIy",
        "colab_type": "text"
      },
      "cell_type": "markdown",
      "source": [
        "**Setting Environment Variables** : Location where Java and Spark will be installed\n",
        "\n",
        "\n",
        "\n"
      ]
    },
    {
      "metadata": {
        "id": "teZBnFWpudSi",
        "colab_type": "code",
        "colab": {}
      },
      "cell_type": "code",
      "source": [
        "import os\n",
        "os.environ[\"JAVA_HOME\"] = \"/usr/lib/jvm/java-8-openjdk-amd64\"\n",
        "os.environ[\"SPARK_HOME\"] = \"/content/spark-2.2.3-bin-hadoop2.7\""
      ],
      "execution_count": 0,
      "outputs": []
    },
    {
      "metadata": {
        "id": "b_pJsSEMvJNS",
        "colab_type": "text"
      },
      "cell_type": "markdown",
      "source": [
        "**Starting a local Spark Session**"
      ]
    },
    {
      "metadata": {
        "id": "N5_fPb3PvNpq",
        "colab_type": "code",
        "colab": {}
      },
      "cell_type": "code",
      "source": [
        "import findspark\n",
        "findspark.init()\n",
        "from pyspark.sql import SparkSession\n",
        "\n",
        "\n",
        "spark = SparkSession.builder.master(\"local[*]\").getOrCreate()"
      ],
      "execution_count": 0,
      "outputs": []
    },
    {
      "metadata": {
        "id": "pNYO6Sn3vT_U",
        "colab_type": "code",
        "colab": {}
      },
      "cell_type": "code",
      "source": [
        "from pyspark import SparkConf\n",
        "from pyspark.context import SparkContext\n",
        "from pyspark import HiveContext"
      ],
      "execution_count": 0,
      "outputs": []
    },
    {
      "metadata": {
        "id": "HivzWnc5vbuh",
        "colab_type": "code",
        "colab": {}
      },
      "cell_type": "code",
      "source": [
        "sc = SparkContext.getOrCreate(SparkConf().setMaster(\"local[*]\"))"
      ],
      "execution_count": 0,
      "outputs": []
    },
    {
      "metadata": {
        "id": "pkE6ftv5vd5x",
        "colab_type": "code",
        "colab": {}
      },
      "cell_type": "code",
      "source": [
        "sqlContext = HiveContext(sc)"
      ],
      "execution_count": 0,
      "outputs": []
    },
    {
      "metadata": {
        "id": "7Og2JSs_v6lk",
        "colab_type": "text"
      },
      "cell_type": "markdown",
      "source": [
        "**Importing the data given in csv format**"
      ]
    },
    {
      "metadata": {
        "id": "QYgOyPCzwDhu",
        "colab_type": "code",
        "colab": {}
      },
      "cell_type": "code",
      "source": [
        "tick_df = sqlContext.read.format('com.databricks.spark.csv') \\\n",
        "    .options(header='true', inferschema='true') \\\n",
        "    .load('tick_data.csv')"
      ],
      "execution_count": 0,
      "outputs": []
    },
    {
      "metadata": {
        "id": "UOWt97Luwa70",
        "colab_type": "text"
      },
      "cell_type": "markdown",
      "source": [
        "**Checking the Schema of the data**"
      ]
    },
    {
      "metadata": {
        "id": "PkIP_IS-wfJM",
        "colab_type": "code",
        "outputId": "d64be806-089b-4053-c842-cc8a44a15a23",
        "colab": {
          "base_uri": "https://localhost:8080/",
          "height": 134
        }
      },
      "cell_type": "code",
      "source": [
        "tick_df.printSchema()"
      ],
      "execution_count": 0,
      "outputs": [
        {
          "output_type": "stream",
          "text": [
            "root\n",
            " |-- DATE: integer (nullable = true)\n",
            " |-- TIME_S: string (nullable = true)\n",
            " |-- SYM_ROOT: string (nullable = true)\n",
            " |-- SIZE: integer (nullable = true)\n",
            " |-- TRADE: double (nullable = true)\n",
            "\n"
          ],
          "name": "stdout"
        }
      ]
    },
    {
      "metadata": {
        "id": "sd80EA3wxueT",
        "colab_type": "text"
      },
      "cell_type": "markdown",
      "source": [
        "**1. Using Spark Dataframe, calculate total trading volume for each stock in a certain hour**"
      ]
    },
    {
      "metadata": {
        "id": "rBAnT-Bd1h8V",
        "colab_type": "code",
        "outputId": "de857b0b-cf1b-4a01-82e5-29cb7789aeb1",
        "colab": {
          "base_uri": "https://localhost:8080/",
          "height": 454
        }
      },
      "cell_type": "code",
      "source": [
        "tick_df.registerTempTable(\"tick_df\")\n",
        "\n",
        "part1_df = sqlContext.sql(\"select SYM_ROOT, DATE, substr(TIME_S,1,2) as TIME_H, sum(SIZE) as SIZE_H         \\\n",
        "                           from tick_df                                                                     \\\n",
        "                           group by SYM_ROOT, DATE, substr(TIME_S,1,2)                                      \\\n",
        "                           order by SYM_ROOT, DATE, substr(TIME_S,1,2)\")\n",
        "part1_df.show()"
      ],
      "execution_count": 0,
      "outputs": [
        {
          "output_type": "stream",
          "text": [
            "+--------+--------+------+------+\n",
            "|SYM_ROOT|    DATE|TIME_H|SIZE_H|\n",
            "+--------+--------+------+------+\n",
            "|    AAPL|20120103|    09| 21092|\n",
            "|    AAPL|20120103|    10| 12041|\n",
            "|    AAPL|20120103|    11|  9473|\n",
            "|    AAPL|20120103|    12|  5718|\n",
            "|    AAPL|20120103|    13|  8103|\n",
            "|    AAPL|20120103|    14|  7783|\n",
            "|    AAPL|20120103|    15| 15334|\n",
            "|    GOOG|20120103|    09|  8314|\n",
            "|    GOOG|20120103|    10|  8080|\n",
            "|    GOOG|20120103|    11|  6776|\n",
            "|    GOOG|20120103|    12|  6619|\n",
            "|    GOOG|20120103|    13|  6517|\n",
            "|    GOOG|20120103|    14|  8453|\n",
            "|    GOOG|20120103|    15| 17496|\n",
            "|     IBM|20120103|    09| 14064|\n",
            "|     IBM|20120103|    10| 12055|\n",
            "|     IBM|20120103|    11| 12863|\n",
            "|     IBM|20120103|    12| 11694|\n",
            "|     IBM|20120103|    13|  5109|\n",
            "|     IBM|20120103|    14|  9033|\n",
            "+--------+--------+------+------+\n",
            "only showing top 20 rows\n",
            "\n"
          ],
          "name": "stdout"
        }
      ]
    },
    {
      "metadata": {
        "id": "jIkc4dRr5mQM",
        "colab_type": "text"
      },
      "cell_type": "markdown",
      "source": [
        "**2. Assuming TRADE reflects the stock price at the time, calculate hourly return of\n",
        "each stock with the given formula. The dataframe should be built on top of part 1 and include SYM_ROOT,DATE,TIME_H, SIZE_H,RETURN_H\n",
        "where RETURN_H represents the hourly return that is calculated from the formula.**"
      ]
    },
    {
      "metadata": {
        "id": "idWbGp3g58i0",
        "colab_type": "code",
        "outputId": "c36f5ebe-5dd1-4c5b-abc3-e13b5fd4db5d",
        "colab": {
          "base_uri": "https://localhost:8080/",
          "height": 454
        }
      },
      "cell_type": "code",
      "source": [
        "# Calculating price of the 1st trade for every stock in a certain hour\n",
        "\n",
        "pt1_df = sqlContext.sql(\"select SYM_ROOT, DATE, TIME_H, FIRST_TRADE_PRICE                                                    \\\n",
        "                      from                                                                                                   \\\n",
        "                      (                                                                                                      \\\n",
        "                        select SYM_ROOT, DATE, substr(TIME_S,1,2) as TIME_H,                                                 \\\n",
        "                        rank() over(partition by SYM_ROOT, DATE, substr(TIME_S,1,2) order by TIME_S asc) as trade_number,    \\\n",
        "                        sum(TRADE) as FIRST_TRADE_PRICE                                                                      \\\n",
        "                        from tick_df                                                                                         \\\n",
        "                        group by SYM_ROOT, DATE, TIME_S                                                                      \\\n",
        "                      ) as pt1                                                                                               \\\n",
        "                      where trade_number = 1\")\n",
        "\n",
        "pt1_df.show()"
      ],
      "execution_count": 0,
      "outputs": [
        {
          "output_type": "stream",
          "text": [
            "+--------+--------+------+------------------+\n",
            "|SYM_ROOT|    DATE|TIME_H| FIRST_TRADE_PRICE|\n",
            "+--------+--------+------+------------------+\n",
            "|    AAPL|20120103|    13|            410.26|\n",
            "|    MSFT|20120103|    15|             53.96|\n",
            "|    AAPL|20120103|    09|            409.21|\n",
            "|     IBM|20120103|    09|            187.67|\n",
            "|    GOOG|20120103|    14|            660.36|\n",
            "|    MSFT|20120103|    11|             26.78|\n",
            "|    AAPL|20120103|    12|            411.22|\n",
            "|     IBM|20120103|    12|            188.13|\n",
            "|    AAPL|20120103|    15|            412.17|\n",
            "|    AAPL|20120103|    10|            411.68|\n",
            "|     IBM|20120103|    11|            188.54|\n",
            "|     IBM|20120103|    10|            188.33|\n",
            "|     IBM|20120103|    15|            186.87|\n",
            "|    GOOG|20120103|    11|            659.74|\n",
            "|    MSFT|20120103|    14|             26.93|\n",
            "|    GOOG|20120103|    15|            665.28|\n",
            "|    GOOG|20120103|    12|            662.06|\n",
            "|    GOOG|20120103|    10|            659.42|\n",
            "|    MSFT|20120103|    10|             26.56|\n",
            "|     IBM|20120103|    13|373.29999999999995|\n",
            "+--------+--------+------+------------------+\n",
            "only showing top 20 rows\n",
            "\n"
          ],
          "name": "stdout"
        }
      ]
    },
    {
      "metadata": {
        "id": "wEioE37jGsIx",
        "colab_type": "code",
        "outputId": "325fd58c-1c23-458d-d923-e69eb2e8abef",
        "colab": {
          "base_uri": "https://localhost:8080/",
          "height": 454
        }
      },
      "cell_type": "code",
      "source": [
        "# Calculating price of the last trade for every stock in a certain hour\n",
        "\n",
        "ptn_df = sqlContext.sql(\"select SYM_ROOT, DATE, TIME_H, LAST_TRADE_PRICE                                                     \\\n",
        "                      from                                                                                                   \\\n",
        "                      (                                                                                                      \\\n",
        "                        select SYM_ROOT, DATE, substr(TIME_S,1,2) as TIME_H,                                                 \\\n",
        "                        rank() over(partition by SYM_ROOT, DATE, substr(TIME_S,1,2) order by TIME_S desc) as trade_number,   \\\n",
        "                        sum(TRADE) as LAST_TRADE_PRICE                                                                       \\\n",
        "                        from tick_df                                                                                         \\\n",
        "                        group by SYM_ROOT, DATE, TIME_S                                                                      \\\n",
        "                      ) as ptn                                                                                               \\\n",
        "                      where trade_number = 1\")\n",
        "\n",
        "ptn_df.show()"
      ],
      "execution_count": 0,
      "outputs": [
        {
          "output_type": "stream",
          "text": [
            "+--------+--------+------+----------------+\n",
            "|SYM_ROOT|    DATE|TIME_H|LAST_TRADE_PRICE|\n",
            "+--------+--------+------+----------------+\n",
            "|    AAPL|20120103|    13|          411.21|\n",
            "|    MSFT|20120103|    15|           26.82|\n",
            "|    AAPL|20120103|    09|          411.38|\n",
            "|     IBM|20120103|    09|          188.25|\n",
            "|    GOOG|20120103|    14|          664.96|\n",
            "|    MSFT|20120103|    11|           26.88|\n",
            "|    AAPL|20120103|    12|          410.19|\n",
            "|     IBM|20120103|    12|          373.17|\n",
            "|    AAPL|20120103|    15|          822.91|\n",
            "|    AAPL|20120103|    10|          411.23|\n",
            "|     IBM|20120103|    11|          188.16|\n",
            "|     IBM|20120103|    10|          188.48|\n",
            "|     IBM|20120103|    15|           186.4|\n",
            "|    GOOG|20120103|    11|          661.86|\n",
            "|    MSFT|20120103|    14|           26.98|\n",
            "|    GOOG|20120103|    15|          665.89|\n",
            "|    GOOG|20120103|    12|          659.56|\n",
            "|    GOOG|20120103|    10|          659.95|\n",
            "|    MSFT|20120103|    10|           26.77|\n",
            "|     IBM|20120103|    13|          186.83|\n",
            "+--------+--------+------+----------------+\n",
            "only showing top 20 rows\n",
            "\n"
          ],
          "name": "stdout"
        }
      ]
    },
    {
      "metadata": {
        "id": "vX-PH6mdJFGQ",
        "colab_type": "code",
        "outputId": "137330d3-8e22-4d1c-ffed-5af387fd109b",
        "colab": {
          "base_uri": "https://localhost:8080/",
          "height": 454
        }
      },
      "cell_type": "code",
      "source": [
        "# Calculating hourly return of each stock using the given formula\n",
        "\n",
        "pt1_df.registerTempTable(\"pt1_df\")\n",
        "ptn_df.registerTempTable(\"ptn_df\")\n",
        "\n",
        "return_df = sqlContext.sql(\"select pt1_df.SYM_ROOT, pt1_df.DATE, pt1_df.TIME_H,                                                               \\\n",
        "                            ((LAST_TRADE_PRICE-FIRST_TRADE_PRICE)/FIRST_TRADE_PRICE) as RETURN_H                                              \\\n",
        "                            from pt1_df inner join ptn_df                                                                                     \\\n",
        "                            on (pt1_df.SYM_ROOT = ptn_df.SYM_ROOT) and (pt1_df.DATE = ptn_df.DATE) and (pt1_df.TIME_H = ptn_df.TIME_H)\")\n",
        "\n",
        "return_df.show()"
      ],
      "execution_count": 0,
      "outputs": [
        {
          "output_type": "stream",
          "text": [
            "+--------+--------+------+--------------------+\n",
            "|SYM_ROOT|    DATE|TIME_H|            RETURN_H|\n",
            "+--------+--------+------+--------------------+\n",
            "|    AAPL|20120103|    13|0.002315604738458...|\n",
            "|    MSFT|20120103|    15| -0.5029651593773166|\n",
            "|    AAPL|20120103|    09|0.005302900711126356|\n",
            "|     IBM|20120103|    09|0.003090531251665224|\n",
            "|    GOOG|20120103|    14|0.006965897389302839|\n",
            "|    MSFT|20120103|    11|0.003734129947722101|\n",
            "|    AAPL|20120103|    12|-0.00250474198725...|\n",
            "|     IBM|20120103|    12|  0.9835751873704355|\n",
            "|    AAPL|20120103|    15|  0.9965305577795568|\n",
            "|    AAPL|20120103|    10|-0.00109308200544...|\n",
            "|     IBM|20120103|    11|-0.00201548742972...|\n",
            "|     IBM|20120103|    10|7.964742738808329E-4|\n",
            "|     IBM|20120103|    15|-0.00251511746133...|\n",
            "|    GOOG|20120103|    11|0.003213387091884...|\n",
            "|    MSFT|20120103|    14|0.001856665428889...|\n",
            "|    GOOG|20120103|    15|9.169071669071874E-4|\n",
            "|    GOOG|20120103|    12|-0.00377609280125...|\n",
            "|    GOOG|20120103|    10|8.037366170272154E-4|\n",
            "|    MSFT|20120103|    10|0.007906626506024129|\n",
            "|     IBM|20120103|    13| -0.4995178140905437|\n",
            "+--------+--------+------+--------------------+\n",
            "only showing top 20 rows\n",
            "\n"
          ],
          "name": "stdout"
        }
      ]
    },
    {
      "metadata": {
        "id": "fRQk3Ou6Mjxp",
        "colab_type": "code",
        "outputId": "f31c4793-808a-4a4b-b506-bc2dffb507ef",
        "colab": {
          "base_uri": "https://localhost:8080/",
          "height": 454
        }
      },
      "cell_type": "code",
      "source": [
        "# Appending the obtained hourly return information to the output from 1st part\n",
        "\n",
        "part1_df.registerTempTable(\"part1_df\")\n",
        "return_df.registerTempTable(\"return_df\")\n",
        "\n",
        "part2_df = sqlContext.sql(\"select part1_df.SYM_ROOT, part1_df.DATE, part1_df.TIME_H, part1_df.SIZE_H, return_df.RETURN_H                                   \\\n",
        "                           from part1_df inner join return_df                                                                                              \\\n",
        "                           on (part1_df.SYM_ROOT = return_df.SYM_ROOT) and (part1_df.DATE = return_df.DATE) and (part1_df.TIME_H = return_df.TIME_H)\")\n",
        "\n",
        "part2_df.show()"
      ],
      "execution_count": 0,
      "outputs": [
        {
          "output_type": "stream",
          "text": [
            "+--------+--------+------+------+--------------------+\n",
            "|SYM_ROOT|    DATE|TIME_H|SIZE_H|            RETURN_H|\n",
            "+--------+--------+------+------+--------------------+\n",
            "|    AAPL|20120103|    13|  8103|0.002315604738458...|\n",
            "|    MSFT|20120103|    15| 59546| -0.5029651593773166|\n",
            "|    AAPL|20120103|    09| 21092|0.005302900711126356|\n",
            "|     IBM|20120103|    09| 14064|0.003090531251665224|\n",
            "|    GOOG|20120103|    14|  8453|0.006965897389302839|\n",
            "|    MSFT|20120103|    11| 33155|0.003734129947722101|\n",
            "|    AAPL|20120103|    12|  5718|-0.00250474198725...|\n",
            "|     IBM|20120103|    12| 11694|  0.9835751873704355|\n",
            "|    AAPL|20120103|    15| 15334|  0.9965305577795568|\n",
            "|    AAPL|20120103|    10| 12041|-0.00109308200544...|\n",
            "|     IBM|20120103|    11| 12863|-0.00201548742972...|\n",
            "|     IBM|20120103|    10| 12055|7.964742738808329E-4|\n",
            "|     IBM|20120103|    15| 14450|-0.00251511746133...|\n",
            "|    GOOG|20120103|    11|  6776|0.003213387091884...|\n",
            "|    MSFT|20120103|    14| 13715|0.001856665428889...|\n",
            "|    GOOG|20120103|    15| 17496|9.169071669071874E-4|\n",
            "|    GOOG|20120103|    12|  6619|-0.00377609280125...|\n",
            "|    GOOG|20120103|    10|  8080|8.037366170272154E-4|\n",
            "|    MSFT|20120103|    10| 23579|0.007906626506024129|\n",
            "|     IBM|20120103|    13|  5109| -0.4995178140905437|\n",
            "+--------+--------+------+------+--------------------+\n",
            "only showing top 20 rows\n",
            "\n"
          ],
          "name": "stdout"
        }
      ]
    },
    {
      "metadata": {
        "id": "N6atVF1yQ5kh",
        "colab_type": "text"
      },
      "cell_type": "markdown",
      "source": [
        "**3. Sort the output by SYM_ROOT, DATE, and TIME_H. **"
      ]
    },
    {
      "metadata": {
        "id": "UtXIlEKXQ-T5",
        "colab_type": "code",
        "outputId": "9bbd9d8c-be9a-4fd1-bb0d-70fc9c336b9e",
        "colab": {
          "base_uri": "https://localhost:8080/",
          "height": 454
        }
      },
      "cell_type": "code",
      "source": [
        "part2_df.registerTempTable(\"part2_df\")\n",
        "\n",
        "part3_df = sqlContext.sql(\"select * from part2_df order by SYM_ROOT, DATE, TIME_H\")\n",
        "\n",
        "part3_df.show()"
      ],
      "execution_count": 0,
      "outputs": [
        {
          "output_type": "stream",
          "text": [
            "+--------+--------+------+------+--------------------+\n",
            "|SYM_ROOT|    DATE|TIME_H|SIZE_H|            RETURN_H|\n",
            "+--------+--------+------+------+--------------------+\n",
            "|    AAPL|20120103|    09| 21092|0.005302900711126356|\n",
            "|    AAPL|20120103|    10| 12041|-0.00109308200544...|\n",
            "|    AAPL|20120103|    11|  9473|-1.45857642940495...|\n",
            "|    AAPL|20120103|    12|  5718|-0.00250474198725...|\n",
            "|    AAPL|20120103|    13|  8103|0.002315604738458...|\n",
            "|    AAPL|20120103|    14|  7783|0.002066567795580...|\n",
            "|    AAPL|20120103|    15| 15334|  0.9965305577795568|\n",
            "|    GOOG|20120103|    09|  8314|0.006056815061178277|\n",
            "|    GOOG|20120103|    10|  8080|8.037366170272154E-4|\n",
            "|    GOOG|20120103|    11|  6776|0.003213387091884...|\n",
            "|    GOOG|20120103|    12|  6619|-0.00377609280125...|\n",
            "|    GOOG|20120103|    13|  6517|  1.0001514784294718|\n",
            "|    GOOG|20120103|    14|  8453|0.006965897389302839|\n",
            "|    GOOG|20120103|    15| 17496|9.169071669071874E-4|\n",
            "|     IBM|20120103|    09| 14064|0.003090531251665224|\n",
            "|     IBM|20120103|    10| 12055|7.964742738808329E-4|\n",
            "|     IBM|20120103|    11| 12863|-0.00201548742972...|\n",
            "|     IBM|20120103|    12| 11694|  0.9835751873704355|\n",
            "|     IBM|20120103|    13|  5109| -0.4995178140905437|\n",
            "|     IBM|20120103|    14|  9033|8.028689182678223E-4|\n",
            "+--------+--------+------+------+--------------------+\n",
            "only showing top 20 rows\n",
            "\n"
          ],
          "name": "stdout"
        }
      ]
    },
    {
      "metadata": {
        "id": "n1lzMZcV6uJQ",
        "colab_type": "code",
        "colab": {}
      },
      "cell_type": "code",
      "source": [
        "# Exporting\n",
        "\n",
        "!apt-get install -y -qq software-properties-common python-software-properties module-init-tools\n",
        "!add-apt-repository -y ppa:alessandro-strada/ppa 2>&1 > /dev/null\n",
        "!apt-get update -qq 2>&1 > /dev/null\n",
        "!apt-get -y install -qq google-drive-ocamlfuse fuse\n",
        "from google.colab import auth\n",
        "auth.authenticate_user()\n",
        "from oauth2client.client import GoogleCredentials\n",
        "creds = GoogleCredentials.get_application_default()\n",
        "import getpass\n",
        "!google-drive-ocamlfuse -headless -id={creds.client_id} -secret={creds.client_secret} < /dev/null 2>&1 | grep URL\n",
        "vcode = getpass.getpass()\n",
        "!echo {vcode} | google-drive-ocamlfuse -headless -id={creds.client_id} -secret={creds.client_secret}"
      ],
      "execution_count": 0,
      "outputs": []
    },
    {
      "metadata": {
        "id": "5D2kkBgz6yBD",
        "colab_type": "code",
        "colab": {}
      },
      "cell_type": "code",
      "source": [
        "!mkdir -p drive\n",
        "!google-drive-ocamlfuse drive"
      ],
      "execution_count": 0,
      "outputs": []
    },
    {
      "metadata": {
        "id": "eu0-4K_460Cl",
        "colab_type": "code",
        "colab": {}
      },
      "cell_type": "code",
      "source": [
        "part3_df.repartition(1).write.format('com.databricks.spark.csv') \\\n",
        "    .option('header', 'true') \\\n",
        "    .save('/content/drive/abd_hw3/')"
      ],
      "execution_count": 0,
      "outputs": []
    }
  ]
}